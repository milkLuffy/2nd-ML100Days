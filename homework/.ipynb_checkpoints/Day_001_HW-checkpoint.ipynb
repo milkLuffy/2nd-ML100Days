{
 "cells": [
  {
   "cell_type": "markdown",
   "metadata": {},
   "source": [
    "## 作業1:\n",
    "\n",
    "請上 Kaggle, 在 Competitions 或 Dataset 中找一組競賽或資料並寫下：\n",
    "https://www.kaggle.com/russellyates88/suicide-rates-overview-1985-to-2016\n",
    "\n",
    "1. 你選的這組資料為何重要\n",
    "    Ａ：如果能了解地區、性別、年齡與自殺的關聯性，也許可以預先施加輔導或是解救\n",
    "\n",
    "2. 資料從何而來 (tips: 譬如提供者是誰、以什麼方式蒐集)\n",
    "    Ａ：\n",
    "    資料取自文獻如下：\n",
    "    聯合國開發計劃署。（2018）。人類發展指數（HDI）。取自http://hdr.undp.org/en/indicators/137506\n",
    "\n",
    "    世界銀行。（2018）。世界發展指標：國家國內生產總值（現價美元）：1985年至2016年。取自http://databank.worldbank.org/data/source/world-development-indicators#\n",
    "\n",
    "    [Szamil]。（2017年）。二十一世紀的自殺[數據集]。取自https://www.kaggle.com/szamil/suicide-in-the-twenty-first-century/notebook\n",
    "\n",
    "    世界衛生組織。（2018）。預防自殺。來自http://www.who.int/mental_health/suicide-prevention/en/\n",
    "\n",
    "3. 蒐集而來的資料型態為何\n",
    "    Ａ：CSV檔案\n",
    "\n",
    "4. 這組資料想解決的問題如何評估\n",
    "    Ａ：主要想找到在哪個地區，什麼樣的人會產生出自殺訊號\n",
    "\n",
    "\n",
    "## 作業2:\n",
    "\n",
    "想像你經營一個自由載客車隊，你希望能透過數據分析以提升業績，請你思考並描述你如何規劃整體的分析/解決方案：\n",
    "\n",
    "1. 核心問題為何 (tips：如何定義 「提升業績 & 你的假設」)\n",
    "    Ａ：主要的問題是人群大多聚集於哪裡、什麼時間最多人需要搭車\n",
    "        因此H0=業績提升與時間、地點有關聯\n",
    "           H1=業績提升與時間、地點無關聯 \n",
    "\n",
    "2. 資料從何而來 (tips：哪些資料可能會對你想問的問題產生影響 & 資料如何蒐集)\n",
    "    Ａ：蒐集目前載客的資訊（時間、人數、地點），請司機紀錄，或是如果有像Uber一樣的系統就能簡單取得資訊\n",
    "        蒐集上下班時間、地點，分析主要人群聚集地\n",
    "\n",
    "3. 蒐集而來的資料型態為何\n",
    "    Ａ：CSV檔案\n",
    "\n",
    "4. 你要回答的問題，其如何評估 (tips：你的假設如何驗證)\n",
    "    Ａ：人群聚集的時間與地點越密集，此時載客量也提升，那代表接受虛無假設，有顯著的關係\n",
    "\n",
    "\n",
    "## 作業3:\n",
    "## 練習時間\n",
    "#### 請寫一個函式用來計算 Mean Square Error\n",
    "$ MSE = \\frac{1}{n}\\sum_{i=1}^{n}{(Y_i - \\hat{Y}_i)^2} $\n",
    "\n",
    "### Hint: [如何取平方](https://googoodesign.gitbooks.io/-ezpython/unit-1.html)"
   ]
  },
  {
   "cell_type": "markdown",
   "metadata": {},
   "source": []
  },
  {
   "cell_type": "code",
   "execution_count": 2,
   "metadata": {},
   "outputs": [],
   "source": [
    "import numpy as np\n",
    "import matplotlib.pyplot as plt"
   ]
  },
  {
   "cell_type": "code",
   "execution_count": 3,
   "metadata": {},
   "outputs": [
    {
     "data": {
      "image/png": "[encoded data removed]",
      "text/plain": [
       "<Figure size 432x288 with 1 Axes>"
      ]
     },
     "metadata": {
      "needs_background": "light"
     },
     "output_type": "display_data"
    }
   ],
   "source": [
    "w = 3\n",
    "b = 0.5\n",
    "\n",
    "x_lin = np.linspace(0, 100, 101)\n",
    "\n",
    "y = (x_lin + np.random.randn(101) * 5) * w + b\n",
    "\n",
    "plt.plot(x_lin, y, 'b.', label = 'data points')\n",
    "plt.title(\"Assume we have data points\")\n",
    "plt.legend(loc = 2)\n",
    "plt.show()"
   ]
  },
  {
   "cell_type": "code",
   "execution_count": 4,
   "metadata": {},
   "outputs": [
    {
     "data": {
      "image/png": "[encoded data removed]",
      "text/plain": [
       "<Figure size 432x288 with 1 Axes>"
      ]
     },
     "metadata": {
      "needs_background": "light"
     },
     "output_type": "display_data"
    }
   ],
   "source": [
    "y_hat = x_lin * w + b\n",
    "plt.plot(x_lin, y, 'b.', label = 'data')\n",
    "plt.plot(x_lin, y_hat, 'r-', label = 'prediction')\n",
    "plt.title(\"Assume we have data points (And the prediction)\")\n",
    "plt.legend(loc = 2)\n",
    "plt.show()"
   ]
  },
  {
   "cell_type": "code",
   "execution_count": 5,
   "metadata": {},
   "outputs": [
    {
     "name": "stdout",
     "output_type": "stream",
     "text": [
      "The Mean Square Error is 230.940\n"
     ]
    }
   ],
   "source": [
    "def mean_squared_error(y,yh):\n",
    "    return sum((y-yh)**2)/ len(y)\n",
    "mse=mean_squared_error(y, y_hat)\n",
    "print(\"The Mean Square Error is %.3f\" % (mse))"
   ]
  },
  {
   "cell_type": "code",
   "execution_count": 6,
   "metadata": {},
   "outputs": [
    {
     "name": "stdout",
     "output_type": "stream",
     "text": [
      "The Mean absolute error is 12.174\n"
     ]
    }
   ],
   "source": [
    "def mean_absolute_error(y, yp):\n",
    "    \"\"\"\n",
    "    計算 MAE\n",
    "    Args:\n",
    "        - y: 實際值\n",
    "        - yp: 預測值\n",
    "    Return:\n",
    "        - mae: MAE\n",
    "    \"\"\"\n",
    "    mae = MAE = sum(abs(y - yp)) / len(y)\n",
    "    return mae\n",
    "\n",
    "MAE = mean_absolute_error(y, y_hat)\n",
    "print(\"The Mean absolute error is %.3f\" % (MAE))"
   ]
  },
  {
   "cell_type": "code",
   "execution_count": 7,
   "metadata": {},
   "outputs": [
    {
     "name": "stdout",
     "output_type": "stream",
     "text": [
      "The Mean squared error is 230.940\n",
      "The Mean absolute error is 12.174\n"
     ]
    }
   ],
   "source": [
    "# 執行 Function, 確認有沒有正常執行\n",
    "MSE = mean_squared_error(y, y_hat)\n",
    "MAE = mean_absolute_error(y, y_hat)\n",
    "print(\"The Mean squared error is %.3f\" % (MSE))\n",
    "print(\"The Mean absolute error is %.3f\" % (MAE))"
   ]
  },
  {
   "cell_type": "code",
   "execution_count": null,
   "metadata": {},
   "outputs": [],
   "source": []
  },
  {
   "cell_type": "code",
   "execution_count": null,
   "metadata": {},
   "outputs": [],
   "source": []
  }
 ],
 "metadata": {
  "anaconda-cloud": {},
  "kernelspec": {
   "display_name": "Python 3",
   "language": "python",
   "name": "python3"
  },
  "language_info": {
   "codemirror_mode": {
    "name": "ipython",
    "version": 3
   },
   "file_extension": ".py",
   "mimetype": "text/x-python",
   "name": "python",
   "nbconvert_exporter": "python",
   "pygments_lexer": "ipython3",
   "version": "3.7.1"
  }
 },
 "nbformat": 4,
 "nbformat_minor": 1
}
